{
 "cells": [
  {
   "cell_type": "code",
   "execution_count": 1,
   "id": "743a60f3-61d1-457e-8869-1ff2d3170087",
   "metadata": {},
   "outputs": [],
   "source": [
    "import sys\n",
    "sys.path.append(\"../src\")"
   ]
  },
  {
   "cell_type": "code",
   "execution_count": 2,
   "id": "258f1319-c004-40de-9af4-213e8d205abd",
   "metadata": {},
   "outputs": [],
   "source": [
    "from data_retrieval.util import setup_output_path\n",
    "from data_processing.util import (\n",
    "    pre_process_ecmwf_data,\n",
    "    regrid_climate_data,\n",
    "    pre_process_era5_data,\n",
    "    ecmwf_bias_correction,\n",
    "    compute_quantile_probability\n",
    ")"
   ]
  },
  {
   "cell_type": "markdown",
   "id": "a14475a4-b7ab-4c1b-9859-1348c0385fae",
   "metadata": {},
   "source": [
    "### Define file directories"
   ]
  },
  {
   "cell_type": "code",
   "execution_count": 3,
   "id": "2910d0b8-8ff8-4334-9750-9d2a6632e128",
   "metadata": {},
   "outputs": [],
   "source": [
    "input_path = \"./data/input_data\" \n",
    "temp_path = \"./data/temp_data\"\n",
    "output_path = \"./data/output_data\""
   ]
  },
  {
   "cell_type": "markdown",
   "id": "fe1f5279-2350-4eaf-951e-ad9028377677",
   "metadata": {},
   "source": [
    "### Create sub-dirs if they do not exist"
   ]
  },
  {
   "cell_type": "code",
   "execution_count": 4,
   "id": "f9eb4c09-26d2-44b1-a655-9c55ad0cf282",
   "metadata": {},
   "outputs": [],
   "source": [
    "setup_output_path(temp_path)\n",
    "setup_output_path(output_path)"
   ]
  },
  {
   "cell_type": "markdown",
   "id": "74ce1490-f00c-4490-bc12-10b7066a24ef",
   "metadata": {},
   "source": [
    "### Define file paths\n",
    "\n",
    "define the naming used for each file, be it input, output or intermediary files."
   ]
  },
  {
   "cell_type": "code",
   "execution_count": 5,
   "id": "170bbf85-bd42-43a2-b9a0-74bfc2f66961",
   "metadata": {},
   "outputs": [],
   "source": [
    "input_era5_file_name = \"era5-monthly-seasonal-forecast-total-precipitation-1981-2023-eth\"\n",
    "input_ecmwf_file_name = \"ecmwf-monthly-seasonalforecast-1981-2023-eth\"\n",
    "\n",
    "output_era5_file_name = \"era5-ethiopia\"\n",
    "output_ecmwf_file_name = \"ecmwf-ethiopia\"\n",
    "\n",
    "admin_file_name = \"admin_boundary_eth/eth_admbnda_adm1_csa_bofedb_2021.shp\"\n",
    "admin_code_label = \"ADM1_PCODE\"\n",
    "\n",
    "#input datasets\n",
    "era5_raw_data_file_path = f\"{input_path}/{input_era5_file_name}.grib\" \n",
    "ecmwf_raw_data_file_path = f\"{input_path}/{input_ecmwf_file_name}.grib\"\n",
    "admin_boundary_file_path = f\"{input_path}/{admin_file_name}\"\n",
    "era5_regrid_file_path = f\"{input_path}/{input_era5_file_name}-regrid.nc\"\n",
    "\n",
    "#ECMWF intermediary datasets\n",
    "ecmwf_processed_pixel_file_path = f\"{temp_path}/{output_ecmwf_file_name}-processed-pixel.parquet.gzip\"\n",
    "ecmwf_processed_adm_file_path = f\"{temp_path}/{output_ecmwf_file_name}-processed-adm.parquet.gzip\"\n",
    "ecmwf_bias_corr_pixel_file_path = f\"{temp_path}/{output_ecmwf_file_name}-bias-corrected-pixel.parquet.gzip\"\n",
    "ecmwf_bias_corr_adm_file_path = f\"{temp_path}/{output_ecmwf_file_name}-bias-corrected-adm.parquet.gzip\"\n",
    "ref_grid_file_path = f\"{temp_path}/{output_ecmwf_file_name}-reference-grid.parquet.gzip\"\n",
    "\n",
    "#ERA5 intermediary/export datasets\n",
    "era5_processed_pixel_file_path = f\"{output_path}/{output_era5_file_name}-processed-pixel.parquet.gzip\"\n",
    "era5_processed_adm_file_path = f\"{output_path}/{output_era5_file_name}-processed-adm.parquet.gzip\"\n",
    "\n",
    "#ECMWF export datasets\n",
    "ecmwf_quantile_pixel_file_path = f\"{output_path}/{output_ecmwf_file_name}-quantile-pixel.parquet.gzip\"\n",
    "ecmwf_quantile_bias_corr_pixel_file_path = f\"{output_path}/{output_ecmwf_file_name}-quantile-bias-corrected-pixel.parquet.gzip\"\n",
    "ecmwf_quantile_adm_file_path = f\"{output_path}/{output_ecmwf_file_name}-quantile-adm.parquet.gzip\"\n",
    "ecmwf_quantile_bias_corr_adm_file_path = f\"{output_path}/{output_ecmwf_file_name}-quantile-bias-corrected-adm.parquet.gzip\""
   ]
  },
  {
   "cell_type": "code",
   "execution_count": 6,
   "id": "2180c05e-883d-442f-b230-b2d70e243c55",
   "metadata": {},
   "outputs": [],
   "source": [
    "def run_pipeline(perform_regrid):\n",
    "    #Converts ECMWF grib file into a dataframe, start processing the format and exports it to a parquet file\n",
    "    pre_process_ecmwf_data(\n",
    "        ecmwf_raw_data_file_path,\n",
    "        admin_boundary_file_path,\n",
    "        ref_grid_file_path,\n",
    "        ecmwf_processed_pixel_file_path,\n",
    "        ecmwf_processed_adm_file_path,\n",
    "        admin_code_label\n",
    "    )\n",
    "\n",
    "    #Convert ERA5 grid to the same one used for ECMWF\n",
    "    if perform_regrid == True:\n",
    "        regrid_climate_data(era5_raw_data_file_path, ecmwf_raw_data_file_path, era5_regrid_file_path)\n",
    "    \n",
    "    #Converts ERA5 grib file into a dataframe, start processing the format and exports it to a parquet file\n",
    "    pre_process_era5_data(era5_regrid_file_path, admin_boundary_file_path, ref_grid_file_path, era5_processed_pixel_file_path, era5_processed_adm_file_path)\n",
    "    \n",
    "    #Correct the bias between ECMWF and ERA5 values (for every location and month). Executes it twice, one at the \n",
    "    #grid point level (pixel) and one at the admin boundary level\n",
    "    ecmwf_bias_correction(ecmwf_processed_pixel_file_path, era5_processed_pixel_file_path, ecmwf_bias_corr_pixel_file_path)\n",
    "    ecmwf_bias_correction(ecmwf_processed_adm_file_path, era5_processed_adm_file_path, ecmwf_bias_corr_adm_file_path)\n",
    "\n",
    "    #Compute quantile probabilities based on ERA5 climatology and ECMWF ensemble models. Executes it four times, following\n",
    "    #the geospatial unit (pixel or administrative boundary level) and the bias correction status (before and after bias correction)\n",
    "    compute_quantile_probability(ecmwf_processed_pixel_file_path, era5_processed_pixel_file_path, ecmwf_quantile_pixel_file_path)\n",
    "    compute_quantile_probability(ecmwf_bias_corr_pixel_file_path, era5_processed_pixel_file_path, ecmwf_quantile_bias_corr_pixel_file_path)\n",
    "    compute_quantile_probability(ecmwf_processed_adm_file_path, era5_processed_adm_file_path, ecmwf_quantile_adm_file_path)\n",
    "    compute_quantile_probability(ecmwf_bias_corr_adm_file_path, era5_processed_adm_file_path, ecmwf_quantile_bias_corr_adm_file_path)"
   ]
  },
  {
   "cell_type": "code",
   "execution_count": 7,
   "id": "0721b720-af44-43df-9165-af3abf3788a4",
   "metadata": {},
   "outputs": [
    {
     "name": "stdout",
     "output_type": "stream",
     "text": [
      "pre-processing ECMWF data...\n",
      "0/50\n"
     ]
    },
    {
     "name": "stderr",
     "output_type": "stream",
     "text": [
      "/home/mapaction/src/notebooks/../src/data_processing/util.py:98: UserWarning: Geometry is in a geographic CRS. Results from 'buffer' are likely incorrect. Use 'GeoSeries.to_crs()' to re-project geometries to a projected CRS before this operation.\n",
      "\n",
      "  grid_gdf[\"geometry\"] = grid_gdf[\"geometry\"].buffer(0.5, cap_style=3)\n"
     ]
    },
    {
     "name": "stdout",
     "output_type": "stream",
     "text": [
      "10/50\n",
      "20/50\n",
      "30/50\n",
      "40/50\n",
      "50/50\n",
      "pre-processing ECMWF data - done\n"
     ]
    },
    {
     "name": "stderr",
     "output_type": "stream",
     "text": [
      "/home/mapaction/.cache/pypoetry/virtualenvs/ds-mapaction-ecmwf-V6npQypF-py3.11/lib/python3.11/site-packages/geopandas/array.py:365: UserWarning: Geometry is in a geographic CRS. Results from 'sjoin_nearest' are likely incorrect. Use 'GeoSeries.to_crs()' to re-project geometries to a projected CRS before this operation.\n",
      "\n",
      "  warnings.warn(\n"
     ]
    },
    {
     "name": "stdout",
     "output_type": "stream",
     "text": [
      "CPU times: user 16min 39s, sys: 45.3 s, total: 17min 25s\n",
      "Wall time: 17min 16s\n"
     ]
    }
   ],
   "source": [
    "%%time\n",
    "run_pipeline(perform_regrid = True)"
   ]
  },
  {
   "cell_type": "code",
   "execution_count": null,
   "id": "3c6416d7-1f53-4f2a-94da-2771b7150f74",
   "metadata": {},
   "outputs": [],
   "source": []
  }
 ],
 "metadata": {
  "kernelspec": {
   "display_name": "Python 3 (ipykernel)",
   "language": "python",
   "name": "python3"
  },
  "language_info": {
   "codemirror_mode": {
    "name": "ipython",
    "version": 3
   },
   "file_extension": ".py",
   "mimetype": "text/x-python",
   "name": "python",
   "nbconvert_exporter": "python",
   "pygments_lexer": "ipython3",
   "version": "3.11.8"
  }
 },
 "nbformat": 4,
 "nbformat_minor": 5
}
