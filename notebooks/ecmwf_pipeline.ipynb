{
 "cells": [
  {
   "cell_type": "code",
   "execution_count": 1,
   "id": "258f1319-c004-40de-9af4-213e8d205abd",
   "metadata": {},
   "outputs": [],
   "source": [
    "import sys\n",
    "import os\n",
    "\n",
    "\n",
    "sys.path.append(os.path.abspath(os.path.join(os.getcwd(), '..')))\n",
    "\n",
    "\n",
    "from src.data_processing.custom_python_package import *\n",
    "\n",
    "from src.data_retrieval.util import setup_output_path\n"
   ]
  },
  {
   "cell_type": "code",
   "execution_count": 2,
   "id": "e7a53606",
   "metadata": {},
   "outputs": [],
   "source": [
    "\n",
    "input_data_path = './data/input_data/'\n",
    "temp_data_path = './data/temp_data/'\n",
    "output_data_path = './data/output_data/'\n",
    "\n",
    "input_era5_file_name = 'era5-total-precipitation-1981-2023'\n",
    "input_ecmwf_file_name = 'ecmwf-monthly-seasonalforecast-1981-2023-002'\n",
    "#input_ecmwf_file_name = 'ecmwf-monthly-seasonalforecast-1981-2023-eth'\n",
    "\n",
    "output_era5_file_name = 'era5-ethiopia'\n",
    "output_ecmwf_file_name = 'ecmwf-ethiopia'\n",
    "\n",
    "admin_file_name = 'admin_boundary_eth/eth_admbnda_adm1_csa_bofedb_2021.shp'\n",
    "admin_code_label = 'ADM1_PCODE'\n",
    "\n",
    "setup_output_path(temp_data_path)\n",
    "setup_output_path(output_data_path)"
   ]
  },
  {
   "cell_type": "code",
   "execution_count": 3,
   "id": "c4ba659c-0ca8-4647-91f5-ba1a71512ad9",
   "metadata": {},
   "outputs": [],
   "source": [
    "def create_file_name(input_data_path, \n",
    "                     temp_data_path, \n",
    "                     output_data_path, \n",
    "                     input_era5_file_name, \n",
    "                     input_ecmwf_file_name, \n",
    "                     output_era5_file_name, \n",
    "                     output_ecmwf_file_name, \n",
    "                     admin_file_name, \n",
    "                     admin_code_label\n",
    "                     ):  \n",
    "\n",
    "    \n",
    "    global era5_raw_data_file_path, ecmwf_raw_data_file_path, admin_boundary_file_path, ecmwf_processed_pixel_file_path \n",
    "    global ecmwf_processed_adm_file_path, ecmwf_bias_corr_pixel_file_path, ecmwf_bias_corr_adm_file_path, ref_grid_file_path \n",
    "    global era5_processed_pixel_file_path, era5_processed_adm_file_path, ecmwf_quantile_pixel_file_path\n",
    "    global ecmwf_quantile_bias_corr_pixel_file_path, ecmwf_quantile_adm_file_path, ecmwf_quantile_bias_corr_adm_file_path\n",
    "    \n",
    "    #input datasets\n",
    "    era5_raw_data_file_path = input_data_path + input_era5_file_name + '.grib'    \n",
    "    ecmwf_raw_data_file_path = input_data_path + input_ecmwf_file_name + '.grib'\n",
    "    admin_boundary_file_path = input_data_path + admin_file_name\n",
    "    \n",
    "    #ECMWF intermediary datasets    \n",
    "    ecmwf_processed_pixel_file_path =  temp_data_path + output_ecmwf_file_name + '-processed-pixel' + '.parquet.gzip'\n",
    "    ecmwf_processed_adm_file_path = temp_data_path + output_ecmwf_file_name + '-processed-adm' + '.parquet.gzip'\n",
    "    ecmwf_bias_corr_pixel_file_path = temp_data_path + output_ecmwf_file_name + '-bias-corrected-pixel' + '.parquet.gzip'\n",
    "    ecmwf_bias_corr_adm_file_path = temp_data_path + output_ecmwf_file_name + '-bias-corrected-adm' + '.parquet.gzip'\n",
    "    ref_grid_file_path = temp_data_path + output_ecmwf_file_name + '-reference-grid' + '.parquet.gzip'\n",
    "    \n",
    "    \n",
    "    #ERA5 intermediary/export datasets\n",
    "    era5_processed_pixel_file_path =  output_data_path + output_era5_file_name + '-processed-pixel' + '.parquet.gzip'\n",
    "    era5_processed_adm_file_path = output_data_path + output_era5_file_name + '-processed-adm' + '.parquet.gzip'\n",
    "    \n",
    "    #ECMWF export datasets\n",
    "    ecmwf_quantile_pixel_file_path = output_data_path + output_ecmwf_file_name + '-quantile-pixel' + '.parquet.gzip'\n",
    "    ecmwf_quantile_bias_corr_pixel_file_path = output_data_path + output_ecmwf_file_name + '-quantile-bias-corrected-pixel' + '.parquet.gzip'\n",
    "    ecmwf_quantile_adm_file_path = output_data_path + output_ecmwf_file_name + '-quantile-adm' + '.parquet.gzip'\n",
    "    ecmwf_quantile_bias_corr_adm_file_path = output_data_path + output_ecmwf_file_name + '-quantile-bias-corrected-adm' + '.parquet.gzip'\n",
    "\n",
    "\n",
    "    return()"
   ]
  },
  {
   "cell_type": "code",
   "execution_count": 4,
   "id": "2180c05e-883d-442f-b230-b2d70e243c55",
   "metadata": {},
   "outputs": [],
   "source": [
    "def run_pipeline():\n",
    "\n",
    "    # Converts ECMWF grib file into a dataframe, \n",
    "    # start processing the format and exports it to a parquet file\n",
    "    pre_process_ecmwf_data(ecmwf_raw_data_file_path, \n",
    "                           admin_boundary_file_path, \n",
    "                           ref_grid_file_path, \n",
    "                           ecmwf_processed_pixel_file_path, \n",
    "                           ecmwf_processed_adm_file_path, \n",
    "                           admin_code_label\n",
    "                           )\n",
    "    \n",
    "    # Converts ERA5 grib file into a dataframe, \n",
    "    # start processing the format and exports it to a parquet file\n",
    "    pre_process_era5_data(era5_raw_data_file_path, \n",
    "                          admin_boundary_file_path, \n",
    "                          ref_grid_file_path, \n",
    "                          era5_processed_pixel_file_path, \n",
    "                          era5_processed_adm_file_path\n",
    "                          )\n",
    "    \n",
    "    #Correct the bias between ECMWF and ERA5 values (for every location and month). \n",
    "    # Executes it twice, one at the \n",
    "    #grid point level (pixel) and one at the admin boundary level\n",
    "    ecmwf_bias_correction(ecmwf_processed_pixel_file_path, \n",
    "                          era5_processed_pixel_file_path, \n",
    "                          ecmwf_bias_corr_pixel_file_path\n",
    "                          )\n",
    "    \n",
    "    ecmwf_bias_correction(ecmwf_processed_adm_file_path, \n",
    "                          era5_processed_adm_file_path, \n",
    "                          ecmwf_bias_corr_adm_file_path\n",
    "                          )\n",
    "\n",
    "    #Compute quantile probabilities based on ERA5 climatology and ECMWF ensemble models. \n",
    "    # Executes it four times, following\n",
    "    #the geospatial unit (pixel or administrative boundary level) \n",
    "    # and the bias correction status (before and after bias correction)\n",
    "    compute_quantile_probability(ecmwf_processed_pixel_file_path, \n",
    "                                 era5_processed_pixel_file_path, \n",
    "                                 ecmwf_quantile_pixel_file_path\n",
    "                                 )\n",
    "    \n",
    "    compute_quantile_probability(ecmwf_bias_corr_pixel_file_path, \n",
    "                                 era5_processed_pixel_file_path, \n",
    "                                 ecmwf_quantile_bias_corr_pixel_file_path\n",
    "                                 )\n",
    "    \n",
    "    compute_quantile_probability(ecmwf_processed_adm_file_path, \n",
    "                                 era5_processed_adm_file_path, \n",
    "                                 ecmwf_quantile_adm_file_path\n",
    "                                 )\n",
    "    \n",
    "    compute_quantile_probability(ecmwf_bias_corr_adm_file_path, \n",
    "                                 era5_processed_adm_file_path, \n",
    "                                 ecmwf_quantile_bias_corr_adm_file_path\n",
    "                                 )\n",
    "    \n",
    "    return()"
   ]
  },
  {
   "cell_type": "code",
   "execution_count": 5,
   "id": "9ded0c54-d3de-4d51-b209-118ad462e16b",
   "metadata": {},
   "outputs": [
    {
     "data": {
      "text/plain": [
       "()"
      ]
     },
     "execution_count": 5,
     "metadata": {},
     "output_type": "execute_result"
    }
   ],
   "source": [
    "create_file_name(input_data_path, \n",
    "                 temp_data_path, \n",
    "                 output_data_path, \n",
    "                 input_era5_file_name, \n",
    "                 input_ecmwf_file_name, \n",
    "                 output_era5_file_name, \n",
    "                 output_ecmwf_file_name, \n",
    "                 admin_file_name, \n",
    "                 admin_code_label\n",
    "                 )  \n",
    "\n",
    "\n"
   ]
  },
  {
   "cell_type": "code",
   "execution_count": 6,
   "id": "0721b720-af44-43df-9165-af3abf3788a4",
   "metadata": {},
   "outputs": [
    {
     "name": "stdout",
     "output_type": "stream",
     "text": [
      "pre-processing ECMWF data...\n",
      "0/50\n"
     ]
    },
    {
     "name": "stderr",
     "output_type": "stream",
     "text": [
      "/home/evangelos/latest-chd-ma/ds-mapaction-ecmwf/src/data_processing/custom_python_package.py:93: UserWarning: Geometry is in a geographic CRS. Results from 'buffer' are likely incorrect. Use 'GeoSeries.to_crs()' to re-project geometries to a projected CRS before this operation.\n",
      "\n",
      "  grid_df[\"geometry\"] = grid_df[\"geometry\"].buffer(0.5, cap_style=3)\n"
     ]
    },
    {
     "name": "stdout",
     "output_type": "stream",
     "text": [
      "10/50\n",
      "20/50\n",
      "30/50\n",
      "40/50\n",
      "50/50\n"
     ]
    },
    {
     "name": "stderr",
     "output_type": "stream",
     "text": [
      "Ignoring index file './data/input_data/era5-total-precipitation-1981-2023.grib.9093e.idx' incompatible with GRIB file\n"
     ]
    },
    {
     "name": "stdout",
     "output_type": "stream",
     "text": [
      "pre-processing ECMWF data - done\n",
      "run_pipeline() execution time: 11.08 minutes\n"
     ]
    }
   ],
   "source": [
    "# Measure the execution time of `run_pipeline`\n",
    "import time\n",
    "\n",
    "start_time = time.time()\n",
    "run_pipeline()\n",
    "end_time = time.time()\n",
    "\n",
    "execution_time_seconds = end_time - start_time\n",
    "\n",
    "execution_time_minutes = execution_time_seconds / 60\n",
    "print(f\"run_pipeline() execution time: {execution_time_minutes:.2f} minutes\")"
   ]
  },
  {
   "cell_type": "code",
   "execution_count": null,
   "id": "5cad50da-bf81-41bf-9d12-9faa41a0aea5",
   "metadata": {},
   "outputs": [],
   "source": []
  },
  {
   "cell_type": "code",
   "execution_count": null,
   "id": "a009e5df-4d72-4bc4-a3bf-93e426e6ecc1",
   "metadata": {},
   "outputs": [],
   "source": []
  }
 ],
 "metadata": {
  "kernelspec": {
   "display_name": "Python 3 (ipykernel)",
   "language": "python",
   "name": "python3"
  },
  "language_info": {
   "codemirror_mode": {
    "name": "ipython",
    "version": 3
   },
   "file_extension": ".py",
   "mimetype": "text/x-python",
   "name": "python",
   "nbconvert_exporter": "python",
   "pygments_lexer": "ipython3",
   "version": "3.10.12"
  }
 },
 "nbformat": 4,
 "nbformat_minor": 5
}
