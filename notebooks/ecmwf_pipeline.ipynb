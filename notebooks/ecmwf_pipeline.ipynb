{
 "cells": [
  {
   "cell_type": "markdown",
   "id": "ead205d8-2e9c-4004-bf86-f7e2765cf059",
   "metadata": {},
   "source": [
    "# Initial Setup"
   ]
  },
  {
   "cell_type": "code",
   "execution_count": null,
   "id": "258f1319-c004-40de-9af4-213e8d205abd",
   "metadata": {},
   "outputs": [],
   "source": [
    "import sys\n",
    "import os\n",
    "\n",
    "\n",
    "sys.path.append(os.path.abspath(os.path.join(os.getcwd(), \"..\")))\n",
    "\n",
    "\n",
    "from src.data_processing.custom_python_package import *\n",
    "\n",
    "from src.data_retrieval.util import setup_output_path"
   ]
  },
  {
   "cell_type": "code",
   "execution_count": null,
   "id": "e7a53606",
   "metadata": {},
   "outputs": [],
   "source": [
    "# Adapt to the Path where data is stored\n",
    "os.environ[\"DATA_PATH\"] = os.path.expanduser(\"./data\")\n",
    "base_data_path = os.getenv(\"DATA_PATH\")\n",
    "\n",
    "input_data_path = os.path.join(base_data_path, \"input_data/\")\n",
    "output_data_path = os.path.join(base_data_path, \"output_data/\")\n",
    "\n",
    "input_era5_file_name = \"era5-total-precipitation-1981-2023\"\n",
    "# input_ecmwf_file_name = 'ecmwf-monthly-seasonalforecast-1981-2023-002'\n",
    "input_ecmwf_file_name = \"ecmwf-monthly-seasonalforecast-1981-2023-eth\"\n",
    "\n",
    "output_era5_file_name = \"era5-ethiopia\"\n",
    "output_ecmwf_file_name = \"ecmwf-ethiopia\"\n",
    "\n",
    "admin_file_name = os.path.join(\n",
    "    \"admin_boundary_eth\", \"eth_admbnda_adm1_csa_bofedb_2021.shp\"\n",
    ")\n",
    "admin_code_label = \"ADM1_PCODE\"\n",
    "\n",
    "setup_output_path(output_data_path)"
   ]
  },
  {
   "cell_type": "markdown",
   "id": "e3f14fed-e48a-4d55-9eba-1fec756b469f",
   "metadata": {},
   "source": [
    "# Functions"
   ]
  },
  {
   "cell_type": "code",
   "execution_count": null,
   "id": "c4ba659c-0ca8-4647-91f5-ba1a71512ad9",
   "metadata": {},
   "outputs": [],
   "source": [
    "def create_file_name(\n",
    "    input_data_path,\n",
    "    output_data_path,\n",
    "    input_era5_file_name,\n",
    "    input_ecmwf_file_name,\n",
    "    output_era5_file_name,\n",
    "    output_ecmwf_file_name,\n",
    "    admin_file_name,\n",
    "    admin_code_label,\n",
    "):\n",
    "\n",
    "    global era5_raw_data_file_path, ecmwf_raw_data_file_path, admin_boundary_file_path\n",
    "    global ref_grid_file_path\n",
    "    global ecmwf_processed_pixel_file_path, ecmwf_processed_adm_file_path, era5_processed_pixel_file_path, era5_processed_adm_file_path\n",
    "\n",
    "    # input datasets\n",
    "    era5_raw_data_file_path = input_data_path + input_era5_file_name + \".grib\"\n",
    "    ecmwf_raw_data_file_path = (\n",
    "        input_data_path + input_ecmwf_file_name + \".grib\"\n",
    "    )\n",
    "    admin_boundary_file_path = input_data_path + admin_file_name\n",
    "\n",
    "    # export datasets\n",
    "    ref_grid_file_path = (\n",
    "        output_data_path\n",
    "        + output_ecmwf_file_name\n",
    "        + \"-reference-grid\"\n",
    "        + \".parquet.gzip\"\n",
    "    )\n",
    "    ecmwf_processed_pixel_file_path = (\n",
    "        output_data_path\n",
    "        + output_ecmwf_file_name\n",
    "        + \"-processed-pixel\"\n",
    "        + \".parquet.gzip\"\n",
    "    )\n",
    "    ecmwf_processed_adm_file_path = (\n",
    "        output_data_path\n",
    "        + output_ecmwf_file_name\n",
    "        + \"-processed-adm\"\n",
    "        + \".parquet.gzip\"\n",
    "    )\n",
    "    era5_processed_pixel_file_path = (\n",
    "        output_data_path\n",
    "        + output_era5_file_name\n",
    "        + \"-processed-pixel\"\n",
    "        + \".parquet.gzip\"\n",
    "    )\n",
    "    era5_processed_adm_file_path = (\n",
    "        output_data_path\n",
    "        + output_era5_file_name\n",
    "        + \"-processed-adm\"\n",
    "        + \".parquet.gzip\"\n",
    "    )\n",
    "\n",
    "    return ()"
   ]
  },
  {
   "cell_type": "code",
   "execution_count": null,
   "id": "0d059693-93b8-48a3-a3a2-6c26f98caa5f",
   "metadata": {},
   "outputs": [],
   "source": [
    "def run_pipeline():\n",
    "\n",
    "    # Converts ECMWF grib file into a dataframe,\n",
    "    # start processing the format and exports it to a parquet file\n",
    "    pre_process_ecmwf_data(\n",
    "        ecmwf_raw_data_file_path,\n",
    "        admin_boundary_file_path,\n",
    "        ref_grid_file_path,\n",
    "        ecmwf_processed_pixel_file_path,\n",
    "        ecmwf_processed_adm_file_path,\n",
    "        admin_code_label,\n",
    "    )\n",
    "\n",
    "    # Converts ERA5 grib file into a dataframe,\n",
    "    # start processing the format and exports it to a parquet  file\n",
    "    pre_process_era5_data(\n",
    "        era5_raw_data_file_path,\n",
    "        admin_boundary_file_path,\n",
    "        ref_grid_file_path,\n",
    "        era5_processed_pixel_file_path,\n",
    "        era5_processed_adm_file_path,\n",
    "    )\n",
    "\n",
    "    # Correct the bias between ECMWF and ERA5 values (for every location and month).\n",
    "    # Executes it twice, one at the\n",
    "    # grid point level (pixel) and one at the admin boundary level\n",
    "    ecmwf_bias_correction(\n",
    "        ecmwf_processed_pixel_file_path, era5_processed_pixel_file_path\n",
    "    )\n",
    "\n",
    "    ecmwf_bias_correction(\n",
    "        ecmwf_processed_adm_file_path, era5_processed_adm_file_path\n",
    "    )\n",
    "\n",
    "    return ()"
   ]
  },
  {
   "cell_type": "markdown",
   "id": "0ada30f3-6981-4ab3-b10a-f1f2a817444f",
   "metadata": {},
   "source": [
    "# Setup file names and run pipeline"
   ]
  },
  {
   "cell_type": "code",
   "execution_count": null,
   "id": "9ded0c54-d3de-4d51-b209-118ad462e16b",
   "metadata": {},
   "outputs": [],
   "source": [
    "create_file_name(\n",
    "    input_data_path,\n",
    "    output_data_path,\n",
    "    input_era5_file_name,\n",
    "    input_ecmwf_file_name,\n",
    "    output_era5_file_name,\n",
    "    output_ecmwf_file_name,\n",
    "    admin_file_name,\n",
    "    admin_code_label,\n",
    ")"
   ]
  },
  {
   "cell_type": "code",
   "execution_count": null,
   "id": "0721b720-af44-43df-9165-af3abf3788a4",
   "metadata": {},
   "outputs": [],
   "source": [
    "# Measure the execution time of `run_pipeline`\n",
    "\n",
    "import time\n",
    "\n",
    "start_time = time.time()\n",
    "run_pipeline()\n",
    "end_time = time.time()\n",
    "\n",
    "execution_time_seconds = end_time - start_time\n",
    "\n",
    "execution_time_minutes = execution_time_seconds / 60\n",
    "print(f\"run_pipeline() execution time: {execution_time_minutes:.2f} minutes\")"
   ]
  },
  {
   "cell_type": "code",
   "execution_count": null,
   "id": "ea0dd2dc-50f0-487b-9858-c2c760a59040",
   "metadata": {},
   "outputs": [],
   "source": []
  },
  {
   "cell_type": "code",
   "execution_count": null,
   "id": "6d72cf51-2dac-4378-a39f-124c092092ff",
   "metadata": {},
   "outputs": [],
   "source": []
  },
  {
   "cell_type": "code",
   "execution_count": null,
   "id": "611cb956-357c-4792-ae60-8ccf3124e0d2",
   "metadata": {},
   "outputs": [],
   "source": []
  },
  {
   "cell_type": "code",
   "execution_count": null,
   "id": "20504f0c-97ed-42b6-8e22-38807b2308ea",
   "metadata": {},
   "outputs": [],
   "source": []
  }
 ],
 "metadata": {
  "kernelspec": {
   "display_name": "Python 3 (ipykernel)",
   "language": "python",
   "name": "python3"
  },
  "language_info": {
   "codemirror_mode": {
    "name": "ipython",
    "version": 3
   },
   "file_extension": ".py",
   "mimetype": "text/x-python",
   "name": "python",
   "nbconvert_exporter": "python",
   "pygments_lexer": "ipython3",
   "version": "3.11.7"
  }
 },
 "nbformat": 4,
 "nbformat_minor": 5
}
