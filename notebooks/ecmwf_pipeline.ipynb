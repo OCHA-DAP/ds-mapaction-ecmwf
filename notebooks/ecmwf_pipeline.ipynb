{
 "cells": [
  {
   "cell_type": "code",
   "execution_count": null,
   "id": "258f1319-c004-40de-9af4-213e8d205abd",
   "metadata": {},
   "outputs": [],
   "source": [
    "#import all package functions from a local file\n",
    "from custom_python_package import *"
   ]
  },
  {
   "cell_type": "code",
   "execution_count": null,
   "id": "c4ba659c-0ca8-4647-91f5-ba1a71512ad9",
   "metadata": {},
   "outputs": [],
   "source": [
    "def create_file_name(input_data_path, temp_data_path, output_data_path, input_era5_file_name, input_ecmwf_file_name, output_era5_file_name, output_ecmwf_file_name, admin_file_name, admin_code_label):  \n",
    "\n",
    "    \n",
    "    global era5_raw_data_file_path, era5_regrid_file_path, ecmwf_raw_data_file_path, admin_boundary_file_path, ecmwf_processed_pixel_file_path \n",
    "    global ecmwf_processed_adm_file_path, ecmwf_bias_corr_pixel_file_path, ecmwf_bias_corr_adm_file_path, ref_grid_file_path \n",
    "    global era5_processed_pixel_file_path, era5_processed_adm_file_path, ecmwf_quantile_pixel_file_path\n",
    "    global ecmwf_quantile_bias_corr_pixel_file_path, ecmwf_quantile_adm_file_path, ecmwf_quantile_bias_corr_adm_file_path\n",
    "    \n",
    "    #input datasets\n",
    "    era5_raw_data_file_path = input_data_path + input_era5_file_name + '.grib'    \n",
    "    ecmwf_raw_data_file_path = input_data_path + input_ecmwf_file_name + '.grib'\n",
    "    admin_boundary_file_path = input_data_path + admin_file_name\n",
    "    era5_regrid_file_path = input_data_path + input_era5_file_name + '-regrid' + '.nc'\n",
    "    \n",
    "    \n",
    "    #ECMWF intermediary datasets    \n",
    "    ecmwf_processed_pixel_file_path =  temp_data_path + output_ecmwf_file_name + '-processed-pixel' + '.parquet.gzip'\n",
    "    ecmwf_processed_adm_file_path = temp_data_path + output_ecmwf_file_name + '-processed-adm' + '.parquet.gzip'\n",
    "    ecmwf_bias_corr_pixel_file_path = temp_data_path + output_ecmwf_file_name + '-bias-corrected-pixel' + '.parquet.gzip'\n",
    "    ecmwf_bias_corr_adm_file_path = temp_data_path + output_ecmwf_file_name + '-bias-corrected-adm' + '.parquet.gzip'\n",
    "    ref_grid_file_path = temp_data_path + output_ecmwf_file_name + '-reference-grid' + '.parquet.gzip'\n",
    "    \n",
    "    \n",
    "    #ERA5 intermediary/export datasets\n",
    "    era5_processed_pixel_file_path =  output_data_path + output_era5_file_name + '-processed-pixel' + '.parquet.gzip'\n",
    "    era5_processed_adm_file_path = output_data_path + output_era5_file_name + '-processed-adm' + '.parquet.gzip'\n",
    "    \n",
    "    #ECMWF export datasets\n",
    "    ecmwf_quantile_pixel_file_path = output_data_path + output_ecmwf_file_name + '-quantile-pixel' + '.parquet.gzip'\n",
    "    ecmwf_quantile_bias_corr_pixel_file_path = output_data_path + output_ecmwf_file_name + '-quantile-bias-corrected-pixel' + '.parquet.gzip'\n",
    "    ecmwf_quantile_adm_file_path = output_data_path + output_ecmwf_file_name + '-quantile-adm' + '.parquet.gzip'\n",
    "    ecmwf_quantile_bias_corr_adm_file_path = output_data_path + output_ecmwf_file_name + '-quantile-bias-corrected-adm' + '.parquet.gzip'\n",
    "\n",
    "\n",
    "    return()"
   ]
  },
  {
   "cell_type": "code",
   "execution_count": null,
   "id": "2180c05e-883d-442f-b230-b2d70e243c55",
   "metadata": {},
   "outputs": [],
   "source": [
    "def run_pipeline(perform_regrid):\n",
    "\n",
    "    #Converts ECMWF grib file into a dataframe, start processing the format and exports it to a parquet file\n",
    "    pre_process_ecmwf_data(ecmwf_raw_data_file_path, admin_boundary_file_path, ref_grid_file_path, ecmwf_processed_pixel_file_path, ecmwf_processed_adm_file_path, admin_code_label)\n",
    "\n",
    "    #Convert ERA5 grid to the same one used for ECMWF\n",
    "    if perform_regrid == True:\n",
    "        regrid_climate_data(era5_raw_data_file_path, ecmwf_raw_data_file_path, era5_regrid_file_path)\n",
    "    \n",
    "    #Converts ERA5 grib file into a dataframe, start processing the format and exports it to a parquet file\n",
    "    pre_process_era5_data(era5_regrid_file_path, admin_boundary_file_path, ref_grid_file_path, era5_processed_pixel_file_path, era5_processed_adm_file_path)\n",
    "    \n",
    "    #Correct the bias between ECMWF and ERA5 values (for every location and month). Executes it twice, one at the \n",
    "    #grid point level (pixel) and one at the admin boundary level\n",
    "    ecmwf_bias_correction(ecmwf_processed_pixel_file_path, era5_processed_pixel_file_path, ecmwf_bias_corr_pixel_file_path)\n",
    "    ecmwf_bias_correction(ecmwf_processed_adm_file_path, era5_processed_adm_file_path, ecmwf_bias_corr_adm_file_path)\n",
    "\n",
    "    #Compute quantile probabilities based on ERA5 climatology and ECMWF ensemble models. Executes it four times, following\n",
    "    #the geospatial unit (pixel or administrative boundary level) and the bias correction status (before and after bias correction)\n",
    "    compute_quantile_probability(ecmwf_processed_pixel_file_path, era5_processed_pixel_file_path, ecmwf_quantile_pixel_file_path)\n",
    "    compute_quantile_probability(ecmwf_bias_corr_pixel_file_path, era5_processed_pixel_file_path, ecmwf_quantile_bias_corr_pixel_file_path)\n",
    "    compute_quantile_probability(ecmwf_processed_adm_file_path, era5_processed_adm_file_path, ecmwf_quantile_adm_file_path)\n",
    "    compute_quantile_probability(ecmwf_bias_corr_adm_file_path, era5_processed_adm_file_path, ecmwf_quantile_bias_corr_adm_file_path)\n",
    "    \n",
    "    return()"
   ]
  },
  {
   "cell_type": "code",
   "execution_count": null,
   "id": "801311a1-14df-4e06-9413-6568b0013975",
   "metadata": {},
   "outputs": [],
   "source": [
    "#define the naming used for each file, be it input, output or intermediary files. Used when running the pipeline (or analysis)\n",
    "#locally but should be replaced by the correct datasets in the Databricks pipeline\n",
    "\n",
    "########################\n",
    "#To be changed following country-specific file name\n",
    "#era5_file_name = 'era5_total_precipitation_africa_1981_2023_all_months'\n",
    "#ecmwf_file_name = 'ecmwf-monthly-seasonalforecast-1981-2023-afr'\n",
    "\n",
    "########################\n",
    "input_data_path = './data/input_data/' \n",
    "temp_data_path = './data/temp_data/'\n",
    "output_data_path = './data/output_data/'\n",
    "\n",
    "input_era5_file_name = 'era5-total-precipitation-1981-2023'\n",
    "input_ecmwf_file_name = 'ecmwf-monthly-seasonalforecast-1981-2023-002'\n",
    "\n",
    "output_era5_file_name = 'era5-ethiopia'\n",
    "output_ecmwf_file_name = 'ecmwf-ethiopia'\n",
    "\n",
    "admin_file_name = 'admin_boundary_eth/eth_admbnda_adm1_csa_bofedb_2021.shp'\n",
    "admin_code_label = 'ADM1_PCODE'\n",
    "########################\n",
    "\n"
   ]
  },
  {
   "cell_type": "code",
   "execution_count": null,
   "id": "9ded0c54-d3de-4d51-b209-118ad462e16b",
   "metadata": {},
   "outputs": [],
   "source": [
    "create_file_name(input_data_path, temp_data_path, output_data_path, input_era5_file_name, input_ecmwf_file_name, output_era5_file_name, output_ecmwf_file_name, admin_file_name, admin_code_label)  \n",
    "\n",
    "\n"
   ]
  },
  {
   "cell_type": "code",
   "execution_count": null,
   "id": "0721b720-af44-43df-9165-af3abf3788a4",
   "metadata": {},
   "outputs": [],
   "source": [
    "run_pipeline(perform_regrid = False)"
   ]
  },
  {
   "cell_type": "code",
   "execution_count": null,
   "id": "3c6416d7-1f53-4f2a-94da-2771b7150f74",
   "metadata": {},
   "outputs": [],
   "source": []
  }
 ],
 "metadata": {
  "kernelspec": {
   "display_name": "Python 3 (ipykernel)",
   "language": "python",
   "name": "python3"
  },
  "language_info": {
   "codemirror_mode": {
    "name": "ipython",
    "version": 3
   },
   "file_extension": ".py",
   "mimetype": "text/x-python",
   "name": "python",
   "nbconvert_exporter": "python",
   "pygments_lexer": "ipython3",
   "version": "3.12.2"
  }
 },
 "nbformat": 4,
 "nbformat_minor": 5
}
