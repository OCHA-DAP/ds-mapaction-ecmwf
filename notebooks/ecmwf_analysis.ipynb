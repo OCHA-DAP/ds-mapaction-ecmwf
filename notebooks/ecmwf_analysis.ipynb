{
 "cells": [
  {
   "cell_type": "markdown",
   "id": "85100201-6341-491c-a1fc-dd9dc955e3d6",
   "metadata": {},
   "source": [
    "# Initial setup and file names"
   ]
  },
  {
   "cell_type": "code",
   "execution_count": null,
   "id": "54ad8a35-55e2-463a-9b66-1cac706fe09f",
   "metadata": {},
   "outputs": [],
   "source": [
    "import sys\n",
    "import os\n",
    "\n",
    "\n",
    "sys.path.append(os.path.abspath(os.path.join(os.getcwd(), \"..\")))\n",
    "\n",
    "from src.data_analysis.ecmwf_data_analysis import *"
   ]
  },
  {
   "cell_type": "code",
   "execution_count": null,
   "id": "9f67c82e-51b5-4d68-8ff6-5d840d7a7f08",
   "metadata": {},
   "outputs": [],
   "source": [
    "# Adapt to the Path where data is stored\n",
    "os.environ[\"DATA_PATH\"] = os.path.expanduser(\"./data\")\n",
    "base_data_path = os.getenv(\"DATA_PATH\")\n",
    "\n",
    "\n",
    "input_data_path = os.path.join(base_data_path, \"input_data/\")\n",
    "output_data_path = os.path.join(base_data_path, \"output_data/\")\n",
    "\n",
    "\n",
    "##############################\n",
    "\n",
    "output_era5_file_name = \"era5-ethiopia\"\n",
    "output_ecmwf_file_name = \"ecmwf-ethiopia\"\n",
    "\n",
    "\n",
    "admin_file_name = os.path.join(\n",
    "    \"admin_boundary_eth\", \"eth_admbnda_adm1_csa_bofedb_2021.shp\"\n",
    ")\n",
    "admin_code_label = \"ADM1_PCODE\"\n",
    "\n",
    "##############################\n",
    "\n",
    "# Define the list of quantile values to be used in the last part of the  analysis\n",
    "quantile_value_list = [1 / 2, 1 / 3, 1 / 4, 1 / 5]\n",
    "\n",
    "\n",
    "##############################\n",
    "\n",
    "# tp_col_name indicates the column to be used for ECMWF precipitation value:\n",
    "# tp_mm_day_raw for the original value, tp_mm_day_bias_corrected for the\n",
    "# value after leadtime bias-correction and tp_mm_day_era5_calibrated for the\n",
    "# ERA5-calibrated data.\n",
    "ecmwf_tp_col_name = \"tp_mm_day_bias_corrected\""
   ]
  },
  {
   "cell_type": "code",
   "execution_count": null,
   "id": "784b7ba4-45f2-4b8d-b507-ff32fccdfe22",
   "metadata": {},
   "outputs": [],
   "source": [
    "def create_file_name(\n",
    "    output_data_path,\n",
    "    output_era5_file_name,\n",
    "    output_ecmwf_file_name,\n",
    "    admin_file_name,\n",
    "    admin_code_label,\n",
    "):\n",
    "\n",
    "    global admin_boundary_file_path, ecmwf_processed_pixel_file_path, ecmwf_processed_adm_file_path, era5_processed_pixel_file_path, era5_processed_adm_file_path\n",
    "\n",
    "    admin_boundary_file_path = input_data_path + admin_file_name\n",
    "    ecmwf_processed_pixel_file_path = (\n",
    "        output_data_path\n",
    "        + output_ecmwf_file_name\n",
    "        + \"-processed-pixel\"\n",
    "        + \".parquet.gzip\"\n",
    "    )\n",
    "    ecmwf_processed_adm_file_path = (\n",
    "        output_data_path\n",
    "        + output_ecmwf_file_name\n",
    "        + \"-processed-adm\"\n",
    "        + \".parquet.gzip\"\n",
    "    )\n",
    "    era5_processed_pixel_file_path = (\n",
    "        output_data_path\n",
    "        + output_era5_file_name\n",
    "        + \"-processed-pixel\"\n",
    "        + \".parquet.gzip\"\n",
    "    )\n",
    "    era5_processed_adm_file_path = (\n",
    "        output_data_path\n",
    "        + output_era5_file_name\n",
    "        + \"-processed-adm\"\n",
    "        + \".parquet.gzip\"\n",
    "    )\n",
    "\n",
    "    return ()"
   ]
  },
  {
   "cell_type": "code",
   "execution_count": null,
   "id": "0f677bd9-6d6a-400b-a2b8-358383f82a47",
   "metadata": {},
   "outputs": [],
   "source": []
  },
  {
   "cell_type": "code",
   "execution_count": null,
   "id": "a1357526-febe-4b97-b5b5-20a760a34f0e",
   "metadata": {},
   "outputs": [],
   "source": [
    "create_file_name(\n",
    "    output_data_path,\n",
    "    output_era5_file_name,\n",
    "    output_ecmwf_file_name,\n",
    "    admin_file_name,\n",
    "    admin_code_label,\n",
    ")"
   ]
  },
  {
   "cell_type": "markdown",
   "id": "15055e60-1a37-4b4f-bede-5d60d4bc554e",
   "metadata": {},
   "source": [
    "## Load Data"
   ]
  },
  {
   "cell_type": "code",
   "execution_count": null,
   "id": "82553ee5-ae94-4adf-8aef-303e59bf0dc6",
   "metadata": {},
   "outputs": [],
   "source": [
    "input_era5_pixel_df = pd.read_parquet(era5_processed_pixel_file_path)\n",
    "input_era5_adm_df = pd.read_parquet(era5_processed_adm_file_path)\n",
    "\n",
    "input_ecmwf_pixel_df = pd.read_parquet(ecmwf_processed_pixel_file_path)\n",
    "input_ecmwf_adm_df = pd.read_parquet(ecmwf_processed_adm_file_path)\n",
    "\n",
    "\n",
    "admin_df = gpd.read_file(admin_boundary_file_path)\n",
    "admin_df[\"adm_pcode\"] = admin_df[admin_code_label]"
   ]
  },
  {
   "cell_type": "markdown",
   "id": "ef5ab912-4931-48e0-9461-60608b87019a",
   "metadata": {},
   "source": [
    "## Seasonal aggregation or selection"
   ]
  },
  {
   "cell_type": "code",
   "execution_count": null,
   "id": "7343e5c4-7701-428a-a127-f0de77b002fe",
   "metadata": {},
   "outputs": [],
   "source": [
    "# Define the season to be used in the analysis.\n",
    "# If the season should be treated as one value\n",
    "# (all values aggregated), use aggregate_season_precipitation = True.\n",
    "# Otherwise, every month will be treated separetely.\n",
    "# season_start / season_end indicate the season limits.\n",
    "# For a season running for 3 months between July and September\n",
    "# one would have season_start = 7 / season_end = 9\n",
    "# For a season running for 4 months between November and February,\n",
    "# one would have season_start = 11 / season_end = 2\n",
    "# If the entire year is to be used, season_start = 1 / season_end = 12.\n",
    "# Notice that, when aggregatnig the season, it should not contain more than 6\n",
    "# month because of leadtime maximum\n",
    "\n",
    "season_start = 1\n",
    "season_end = 12\n",
    "aggregate_season_precipitation = False\n",
    "\n",
    "#############################################\n",
    "\n",
    "if aggregate_season_precipitation == True:\n",
    "    era5_pixel_df = aggregate_season(\n",
    "        input_era5_pixel_df, season_start, season_end, \"era5\"\n",
    "    )\n",
    "    era5_adm_df = aggregate_season(\n",
    "        input_era5_adm_df, season_start, season_end, \"era5\"\n",
    "    )\n",
    "    ecmwf_pixel_df = aggregate_season(\n",
    "        input_ecmwf_pixel_df, season_start, season_end, \"ecmwf\"\n",
    "    )\n",
    "    ecmwf_adm_df = aggregate_season(\n",
    "        input_ecmwf_adm_df, season_start, season_end, \"ecmwf\"\n",
    "    )\n",
    "\n",
    "else:\n",
    "    if season_end >= season_start:\n",
    "        month_range = list(range(season_start, season_end + 1))\n",
    "    else:\n",
    "        month_range = list(range(season_start, 12 + 1)) + list(\n",
    "            range(1, season_end + 1)\n",
    "        )\n",
    "\n",
    "    era5_pixel_df = input_era5_pixel_df[\n",
    "        input_era5_pixel_df[\"valid_time_month\"].isin(month_range)\n",
    "    ].reset_index(drop=True)\n",
    "    era5_adm_df = input_era5_adm_df[\n",
    "        input_era5_adm_df[\"valid_time_month\"].isin(month_range)\n",
    "    ].reset_index(drop=True)\n",
    "    ecmwf_pixel_df = input_ecmwf_pixel_df[\n",
    "        input_ecmwf_pixel_df[\"valid_time_month\"].isin(month_range)\n",
    "    ].reset_index(drop=True)\n",
    "    ecmwf_adm_df = input_ecmwf_adm_df[\n",
    "        input_ecmwf_adm_df[\"valid_time_month\"].isin(month_range)\n",
    "    ].reset_index(drop=True)"
   ]
  },
  {
   "cell_type": "markdown",
   "id": "9642bd82-f93f-4850-988e-5083d4fa5e27",
   "metadata": {},
   "source": [
    "## Compute quantile probabilities"
   ]
  },
  {
   "cell_type": "code",
   "execution_count": null,
   "id": "1c6493dc-8f95-473b-a031-2b0aa4905964",
   "metadata": {},
   "outputs": [],
   "source": [
    "ecmwf_adm_quantile_df = compute_quantile_probability(\n",
    "    ecmwf_adm_df, quantile_value_list, tp_col_name=ecmwf_tp_col_name\n",
    ")\n",
    "era5_adm_quantile_df = compute_quantile_probability(\n",
    "    era5_adm_df, quantile_value_list, tp_col_name=\"tp_mm_day\"\n",
    ")\n",
    "\n",
    "ecmwf_pixel_quantile_df = compute_quantile_probability(\n",
    "    ecmwf_pixel_df, quantile_value_list, tp_col_name=ecmwf_tp_col_name\n",
    ")\n",
    "era5_pixel_quantile_df = compute_quantile_probability(\n",
    "    era5_pixel_df, quantile_value_list, tp_col_name=\"tp_mm_day\"\n",
    ")"
   ]
  },
  {
   "cell_type": "markdown",
   "id": "721262ca-b126-44dd-b428-4c812cfb386a",
   "metadata": {},
   "source": [
    "## Precipitation Bias (all months)"
   ]
  },
  {
   "cell_type": "code",
   "execution_count": null,
   "id": "0ffd6f4c-408f-4c8e-b930-4924f06d8f8b",
   "metadata": {
    "scrolled": true
   },
   "outputs": [],
   "source": [
    "# Plotting all months regardless of season selected.\n",
    "ecmwf_plot_df, era5_plot_df = prepare_climatology(\n",
    "    input_ecmwf_pixel_df, input_era5_pixel_df\n",
    ")\n",
    "plot_climatology(ecmwf_plot_df, era5_plot_df, scope_text=\"Country average\")"
   ]
  },
  {
   "cell_type": "markdown",
   "id": "194a70e6-5750-4048-ad30-ade2d7ec4f8f",
   "metadata": {},
   "source": [
    "## Leadtime Dependency"
   ]
  },
  {
   "cell_type": "code",
   "execution_count": null,
   "id": "f4ed923e-c71e-42c4-adc2-88569cdc8c83",
   "metadata": {},
   "outputs": [],
   "source": [
    "plot_df = prepare_leadtime_month_dependency(ecmwf_pixel_df, era5_pixel_df)\n",
    "plot_leadtime_month_dependency(plot_df, scope_text=\"Country average\")"
   ]
  },
  {
   "cell_type": "markdown",
   "id": "8959c411-b990-4012-8b16-b720118cb2ad",
   "metadata": {},
   "source": [
    "## Quantile probablity accuracy analysis"
   ]
  },
  {
   "cell_type": "code",
   "execution_count": null,
   "id": "a17a49f0-a63d-4222-8a6a-cc063c5a4a79",
   "metadata": {},
   "outputs": [],
   "source": [
    "plot_performance_analysis(\n",
    "    ecmwf_adm_quantile_df,\n",
    "    era5_adm_quantile_df,\n",
    "    quantile_value_list,\n",
    "    scope_text=\"Country average\",\n",
    ")"
   ]
  },
  {
   "cell_type": "markdown",
   "id": "0286aa58-41a3-4672-a797-d49cd38d34c6",
   "metadata": {},
   "source": [
    "## ROC / AUC probablity analysis"
   ]
  },
  {
   "cell_type": "code",
   "execution_count": null,
   "id": "1524ecdb-57a2-4355-8bfe-e52a2627bc75",
   "metadata": {},
   "outputs": [],
   "source": [
    "plot_roc_auc_analysis(\n",
    "    ecmwf_adm_quantile_df,\n",
    "    era5_adm_quantile_df,\n",
    "    quantile_value_list,\n",
    "    scope_text=\"Country average\",\n",
    ")"
   ]
  },
  {
   "cell_type": "code",
   "execution_count": null,
   "id": "dd68ff28-1304-4d0d-b784-37ebd932bdaf",
   "metadata": {},
   "outputs": [],
   "source": []
  },
  {
   "cell_type": "code",
   "execution_count": null,
   "id": "5b5f7afb-ad6e-40ef-98ca-76706877f508",
   "metadata": {},
   "outputs": [],
   "source": [
    "\n"
   ]
  },
  {
   "cell_type": "markdown",
   "id": "02130a1d-51ba-475c-80e0-427582768186",
   "metadata": {},
   "source": [
    "## Visualisation Sandbox"
   ]
  },
  {
   "cell_type": "code",
   "execution_count": null,
   "id": "52542f5b-91e9-46dd-be36-121599279cc1",
   "metadata": {},
   "outputs": [],
   "source": [
    "# Leadtime and probability threshold to be used in this spatial plot\n",
    "leadtime = 1\n",
    "threshold = 0.25\n",
    "\n",
    "# Preparation for map per administrative boundary\n",
    "plot_adm_df = preparece_accuracy_map(\n",
    "    ecmwf_adm_quantile_df,\n",
    "    era5_adm_quantile_df,\n",
    "    admin_df,\n",
    "    quantile_value_list,\n",
    "    leadtime,\n",
    "    threshold,\n",
    ")\n",
    "\n",
    "# Preparation for map per pixel\n",
    "plot_pixel_df = preparece_accuracy_map(\n",
    "    ecmwf_pixel_quantile_df,\n",
    "    era5_pixel_quantile_df,\n",
    "    admin_df,\n",
    "    quantile_value_list,\n",
    "    leadtime,\n",
    "    threshold,\n",
    ")"
   ]
  },
  {
   "cell_type": "code",
   "execution_count": null,
   "id": "0eba1ef3-6bf2-4984-b6b6-5500d30f1603",
   "metadata": {},
   "outputs": [],
   "source": [
    "plot_accuracy_map(plot_adm_df, quantile_value_list)"
   ]
  },
  {
   "cell_type": "code",
   "execution_count": null,
   "id": "3c76d952-07de-4657-8cc0-f96d1bb59295",
   "metadata": {},
   "outputs": [],
   "source": [
    "plot_accuracy_map(plot_pixel_df, quantile_value_list)"
   ]
  },
  {
   "cell_type": "code",
   "execution_count": null,
   "id": "923b70ac-52b0-45db-b2a6-1c1b8439898b",
   "metadata": {},
   "outputs": [],
   "source": []
  },
  {
   "cell_type": "markdown",
   "id": "60f5b4af-663c-4231-86d0-5a6fc04bb248",
   "metadata": {},
   "source": [
    "# Focus on sub-divisions"
   ]
  },
  {
   "cell_type": "code",
   "execution_count": null,
   "id": "4341b1ae-36a0-42a9-9dcb-565595aead49",
   "metadata": {},
   "outputs": [],
   "source": [
    "# Plotting all months regardless of season selected.\n",
    "\n",
    "for adm_pcode in ecmwf_adm_df[\"adm_pcode\"].unique():\n",
    "\n",
    "    ecmwf_plot_df, era5_plot_df = prepare_climatology(\n",
    "        input_ecmwf_adm_df[input_ecmwf_adm_df[\"adm_pcode\"] == adm_pcode],\n",
    "        input_era5_adm_df[input_era5_adm_df[\"adm_pcode\"] == adm_pcode],\n",
    "    )\n",
    "    plot_climatology(ecmwf_plot_df, era5_plot_df, scope_text=adm_pcode)"
   ]
  },
  {
   "cell_type": "code",
   "execution_count": null,
   "id": "712cedfb-65e3-4538-bbd2-6a100a4ed040",
   "metadata": {},
   "outputs": [],
   "source": [
    "for adm_pcode in ecmwf_adm_df[\"adm_pcode\"].unique():\n",
    "    plot_df = prepare_leadtime_month_dependency(\n",
    "        ecmwf_adm_df[ecmwf_adm_df[\"adm_pcode\"] == adm_pcode],\n",
    "        era5_adm_df[era5_adm_df[\"adm_pcode\"] == adm_pcode],\n",
    "    )\n",
    "    plot_leadtime_month_dependency(plot_df, scope_text=adm_pcode)"
   ]
  },
  {
   "cell_type": "code",
   "execution_count": null,
   "id": "d44b0341-73d0-4d68-9168-d6cbeaa37183",
   "metadata": {},
   "outputs": [],
   "source": [
    "for adm_pcode in ecmwf_adm_quantile_df[\"adm_pcode\"].unique():\n",
    "    plot_performance_analysis(\n",
    "        ecmwf_adm_quantile_df[ecmwf_adm_quantile_df[\"adm_pcode\"] == adm_pcode],\n",
    "        era5_adm_quantile_df[era5_adm_quantile_df[\"adm_pcode\"] == adm_pcode],\n",
    "        quantile_value_list,\n",
    "        scope_text=adm_pcode,\n",
    "    )"
   ]
  },
  {
   "cell_type": "code",
   "execution_count": null,
   "id": "ef7fe783-f7b2-4419-b8b8-1619cba50881",
   "metadata": {},
   "outputs": [],
   "source": [
    "for adm_pcode in ecmwf_adm_quantile_df[\"adm_pcode\"].unique():\n",
    "    plot_roc_auc_analysis(\n",
    "        ecmwf_adm_quantile_df[ecmwf_adm_quantile_df[\"adm_pcode\"] == adm_pcode],\n",
    "        era5_adm_quantile_df[era5_adm_quantile_df[\"adm_pcode\"] == adm_pcode],\n",
    "        quantile_value_list,\n",
    "        scope_text=adm_pcode,\n",
    "    )"
   ]
  },
  {
   "cell_type": "code",
   "execution_count": null,
   "id": "cef47341-9a6f-40df-bddb-9a503059683e",
   "metadata": {},
   "outputs": [],
   "source": []
  },
  {
   "cell_type": "code",
   "execution_count": null,
   "id": "d08dfe84-263d-4682-9d4d-c1eb6ba741fc",
   "metadata": {},
   "outputs": [],
   "source": []
  },
  {
   "cell_type": "code",
   "execution_count": null,
   "id": "300277e7-bf63-4f2a-91fd-5cec15f2adca",
   "metadata": {},
   "outputs": [],
   "source": []
  }
 ],
 "metadata": {
  "kernelspec": {
   "display_name": "Python 3 (ipykernel)",
   "language": "python",
   "name": "python3"
  },
  "language_info": {
   "codemirror_mode": {
    "name": "ipython",
    "version": 3
   },
   "file_extension": ".py",
   "mimetype": "text/x-python",
   "name": "python",
   "nbconvert_exporter": "python",
   "pygments_lexer": "ipython3",
   "version": "3.11.9"
  }
 },
 "nbformat": 4,
 "nbformat_minor": 5
}
