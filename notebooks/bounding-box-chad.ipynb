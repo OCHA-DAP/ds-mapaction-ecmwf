{
 "cells": [
  {
   "cell_type": "markdown",
   "id": "228a3564-0d0a-4af6-8876-70faad62408d",
   "metadata": {},
   "source": [
    "# Chad Bounding box\n",
    "\n",
    "Getting Bounding box for Chad using [MapAction static data](https://github.com/mapaction/geocint-mapaction/blob/main/static_data/countries_world/tcd.json)\n",
    "\n",
    "This notebook is for investigative purposes only, and serves as a visual documentation on finding the bounding box values.  \n",
    "The Python code will include only the final result in `CHAD_BOUNDING_BOX` constant. "
   ]
  },
  {
   "cell_type": "code",
   "execution_count": 1,
   "id": "619fd662-af68-43fb-8581-4f85a2461e41",
   "metadata": {},
   "outputs": [],
   "source": [
    "import geopandas as gpd"
   ]
  },
  {
   "cell_type": "code",
   "execution_count": 2,
   "id": "8783dd7a-2158-43d7-8830-aafdc0be2518",
   "metadata": {},
   "outputs": [
    {
     "name": "stdout",
     "output_type": "stream",
     "text": [
      "CPU times: user 404 ms, sys: 23.3 ms, total: 427 ms\n",
      "Wall time: 663 ms\n"
     ]
    }
   ],
   "source": [
    "%%time\n",
    "shapefile = gpd.read_file(\"https://raw.githubusercontent.com/mapaction/geocint-mapaction/main/static_data/countries_world/tcd.json\")"
   ]
  },
  {
   "cell_type": "code",
   "execution_count": 3,
   "id": "0a1c9c54-2f1d-46c8-a8dd-a226d34ba07c",
   "metadata": {},
   "outputs": [
    {
     "data": {
      "text/html": [
       "<div>\n",
       "<style scoped>\n",
       "    .dataframe tbody tr th:only-of-type {\n",
       "        vertical-align: middle;\n",
       "    }\n",
       "\n",
       "    .dataframe tbody tr th {\n",
       "        vertical-align: top;\n",
       "    }\n",
       "\n",
       "    .dataframe thead th {\n",
       "        text-align: right;\n",
       "    }\n",
       "</style>\n",
       "<table border=\"1\" class=\"dataframe\">\n",
       "  <thead>\n",
       "    <tr style=\"text-align: right;\">\n",
       "      <th></th>\n",
       "      <th>iso</th>\n",
       "      <th>name_en</th>\n",
       "      <th>geometry</th>\n",
       "    </tr>\n",
       "  </thead>\n",
       "  <tbody>\n",
       "    <tr>\n",
       "      <th>0</th>\n",
       "      <td>TCD</td>\n",
       "      <td>Chad</td>\n",
       "      <td>POLYGON ((13.47347 14.44282, 13.47508 14.45201...</td>\n",
       "    </tr>\n",
       "  </tbody>\n",
       "</table>\n",
       "</div>"
      ],
      "text/plain": [
       "   iso name_en                                           geometry\n",
       "0  TCD    Chad  POLYGON ((13.47347 14.44282, 13.47508 14.45201..."
      ]
     },
     "execution_count": 3,
     "metadata": {},
     "output_type": "execute_result"
    }
   ],
   "source": [
    "shapefile"
   ]
  },
  {
   "cell_type": "code",
   "execution_count": 4,
   "id": "5a6b8790-6618-4613-8c77-f745bba024ff",
   "metadata": {},
   "outputs": [
    {
     "data": {
      "image/png": "[encoded data removed]",
      "text/plain": [
       "<Figure size 640x480 with 1 Axes>"
      ]
     },
     "metadata": {},
     "output_type": "display_data"
    }
   ],
   "source": [
    "shapefile.plot();"
   ]
  },
  {
   "cell_type": "markdown",
   "id": "c8c488b7-c138-43f1-920e-31ae6031c45f",
   "metadata": {},
   "source": [
    "The following code snippet was inspired by example from  \n",
    "[ds-aa-eth-drought/data-raw/download_ecmwf_seasonal_mars.py](https://github.com/OCHA-DAP/ds-aa-eth-drought/blob/ecmwf-mars/data-raw/download_ecmwf_seasonal_mars.py)"
   ]
  },
  {
   "cell_type": "code",
   "execution_count": 5,
   "id": "6750e556-a31d-43bd-9f9c-ece41cf76c22",
   "metadata": {},
   "outputs": [],
   "source": [
    "buffer_aoi = 0.1\n",
    "bounding_box = shapefile.total_bounds\n",
    "bounding_box_str = \"/\".join(\n",
    "    [\n",
    "        str(round(coord, 1))\n",
    "        for coord in [\n",
    "            bounding_box[3] + buffer_aoi,\n",
    "            bounding_box[0] - buffer_aoi,\n",
    "            bounding_box[1] - buffer_aoi,\n",
    "            bounding_box[2] + buffer_aoi,\n",
    "        ]\n",
    "    ]\n",
    ")"
   ]
  },
  {
   "cell_type": "code",
   "execution_count": 6,
   "id": "2e22f07c-9814-4f58-87be-4ccb55e1c156",
   "metadata": {},
   "outputs": [
    {
     "data": {
      "text/plain": [
       "'23.6/13.4/7.3/24.1'"
      ]
     },
     "execution_count": 6,
     "metadata": {},
     "output_type": "execute_result"
    }
   ],
   "source": [
    "bounding_box_str"
   ]
  },
  {
   "cell_type": "markdown",
   "id": "0f5c795c-e7cb-42b0-b1f3-5ef6937f8bdc",
   "metadata": {},
   "source": [
    "Therofre, the Python code for Chad bounding box should be declared as\n",
    "\n",
    "```python\n",
    "CHAD_BOUNDING_BOX: str = \"23.6/13.4/7.3/24.1\"\n",
    "```\n"
   ]
  },
  {
   "cell_type": "code",
   "execution_count": null,
   "id": "e114b29d-d3d7-466e-89a0-7e3fc16f4d36",
   "metadata": {},
   "outputs": [],
   "source": []
  }
 ],
 "metadata": {
  "kernelspec": {
   "display_name": "Python 3 (ipykernel)",
   "language": "python",
   "name": "python3"
  },
  "language_info": {
   "codemirror_mode": {
    "name": "ipython",
    "version": 3
   },
   "file_extension": ".py",
   "mimetype": "text/x-python",
   "name": "python",
   "nbconvert_exporter": "python",
   "pygments_lexer": "ipython3",
   "version": "3.10.12"
  }
 },
 "nbformat": 4,
 "nbformat_minor": 5
}
